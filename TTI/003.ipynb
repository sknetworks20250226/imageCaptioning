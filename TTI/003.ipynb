{
 "cells": [
  {
   "cell_type": "markdown",
   "id": "e6f6efad",
   "metadata": {},
   "source": [
    "```\n",
    "텍스트 + 이미지 \n",
    "텍스트 입력--> 이미지 생성\n",
    "U-NET, CLIP 텍스트 인코더 ,Diffusion프로세스를 처리 및 상당한 학습시간과 데이터가 필요\n",
    "\n",
    "현실적인 대안 : 전이학습... stable-diffusion 모델을 활용\n",
    "```\n"
   ]
  },
  {
   "cell_type": "markdown",
   "id": "d45075b0",
   "metadata": {},
   "source": [
    "diffusers\n",
    "```\n",
    "텍스트 두 이미지 , 이미지 두 테스트, 노이즈제거 등 디퓨전 기반 생성모델을 쉽게 사용 할 수 있도록 하는 라이브러리\n",
    "다양한 모델델과 파이프라인을 제공\n",
    "```\n",
    "invisible_watermark\n",
    "```\n",
    "워터마크를 삽입 또는 제거\n",
    "디퓨전 모델로 생성한 이미지에 저작권 보호를 위해서 워터마크 삽입\n",
    "```\n",
    "safetensors\n",
    "```\n",
    "pickle 보다 안전하고 빠르다  \n",
    "diffusers, transformers 모델 로딩할때 사용 할 수 있음\n",
    "```"
   ]
  },
  {
   "cell_type": "code",
   "execution_count": null,
   "id": "ec4bf2e8",
   "metadata": {},
   "outputs": [
    {
     "name": "stdout",
     "output_type": "stream",
     "text": [
      "Requirement already satisfied: diffusers in c:\\users\\user\\miniconda3\\envs\\tti\\lib\\site-packages (0.33.1)\n",
      "Requirement already satisfied: importlib-metadata in c:\\users\\user\\miniconda3\\envs\\tti\\lib\\site-packages (from diffusers) (8.7.0)\n",
      "Requirement already satisfied: filelock in c:\\users\\user\\miniconda3\\envs\\tti\\lib\\site-packages (from diffusers) (3.18.0)\n",
      "Requirement already satisfied: huggingface-hub>=0.27.0 in c:\\users\\user\\miniconda3\\envs\\tti\\lib\\site-packages (from diffusers) (0.32.2)\n",
      "Requirement already satisfied: numpy in c:\\users\\user\\miniconda3\\envs\\tti\\lib\\site-packages (from diffusers) (2.2.6)\n",
      "Requirement already satisfied: regex!=2019.12.17 in c:\\users\\user\\miniconda3\\envs\\tti\\lib\\site-packages (from diffusers) (2024.11.6)\n",
      "Requirement already satisfied: requests in c:\\users\\user\\miniconda3\\envs\\tti\\lib\\site-packages (from diffusers) (2.32.3)\n",
      "Requirement already satisfied: safetensors>=0.3.1 in c:\\users\\user\\miniconda3\\envs\\tti\\lib\\site-packages (from diffusers) (0.5.3)\n",
      "Requirement already satisfied: Pillow in c:\\users\\user\\miniconda3\\envs\\tti\\lib\\site-packages (from diffusers) (11.2.1)\n",
      "Requirement already satisfied: fsspec>=2023.5.0 in c:\\users\\user\\miniconda3\\envs\\tti\\lib\\site-packages (from huggingface-hub>=0.27.0->diffusers) (2025.5.1)\n",
      "Requirement already satisfied: packaging>=20.9 in c:\\users\\user\\appdata\\roaming\\python\\python313\\site-packages (from huggingface-hub>=0.27.0->diffusers) (24.2)\n",
      "Requirement already satisfied: pyyaml>=5.1 in c:\\users\\user\\miniconda3\\envs\\tti\\lib\\site-packages (from huggingface-hub>=0.27.0->diffusers) (6.0.2)\n",
      "Requirement already satisfied: tqdm>=4.42.1 in c:\\users\\user\\miniconda3\\envs\\tti\\lib\\site-packages (from huggingface-hub>=0.27.0->diffusers) (4.67.1)\n",
      "Requirement already satisfied: typing-extensions>=3.7.4.3 in c:\\users\\user\\miniconda3\\envs\\tti\\lib\\site-packages (from huggingface-hub>=0.27.0->diffusers) (4.13.2)\n",
      "Requirement already satisfied: colorama in c:\\users\\user\\appdata\\roaming\\python\\python313\\site-packages (from tqdm>=4.42.1->huggingface-hub>=0.27.0->diffusers) (0.4.6)\n",
      "Requirement already satisfied: zipp>=3.20 in c:\\users\\user\\miniconda3\\envs\\tti\\lib\\site-packages (from importlib-metadata->diffusers) (3.22.0)\n",
      "Requirement already satisfied: charset-normalizer<4,>=2 in c:\\users\\user\\miniconda3\\envs\\tti\\lib\\site-packages (from requests->diffusers) (3.4.2)\n",
      "Requirement already satisfied: idna<4,>=2.5 in c:\\users\\user\\miniconda3\\envs\\tti\\lib\\site-packages (from requests->diffusers) (3.10)\n",
      "Requirement already satisfied: urllib3<3,>=1.21.1 in c:\\users\\user\\miniconda3\\envs\\tti\\lib\\site-packages (from requests->diffusers) (2.4.0)\n",
      "Requirement already satisfied: certifi>=2017.4.17 in c:\\users\\user\\miniconda3\\envs\\tti\\lib\\site-packages (from requests->diffusers) (2025.4.26)\n"
     ]
    }
   ],
   "source": [
    "\n",
    "%pip install diffusers --upgrade\n",
    "%pip install invisible_watermark transformers accelerate safetensors"
   ]
  },
  {
   "cell_type": "code",
   "execution_count": null,
   "id": "024e984f",
   "metadata": {},
   "outputs": [],
   "source": [
    "%pip install hf_xet"
   ]
  },
  {
   "cell_type": "code",
   "execution_count": null,
   "id": "8df57c36",
   "metadata": {},
   "outputs": [],
   "source": [
    "import torch\n",
    "from diffusers import DiffusionPipeline"
   ]
  },
  {
   "cell_type": "code",
   "execution_count": null,
   "id": "c4cd7675",
   "metadata": {},
   "outputs": [],
   "source": [
    "# 모델 가져오기\n",
    "device = 'cuda' if torch.cuda.is_available() else 'cpu'\n",
    "pipe = DiffusionPipeline.from_pretrained('stabilityai/stable-diffusion-xl-base-1.0',\n",
    "    torch_dtype=torch.float16, use_safetensors=True, variant='fp16')\n",
    "pipe.to(device)"
   ]
  },
  {
   "cell_type": "code",
   "execution_count": null,
   "id": "a55d7754",
   "metadata": {},
   "outputs": [
    {
     "name": "stderr",
     "output_type": "stream",
     "text": [
      "  0%|          | 0/50 [00:00<?, ?it/s]"
     ]
    }
   ],
   "source": [
    "prompt = 'An image representing Korea'\n",
    "images = pipe(prompt=prompt).images[0]"
   ]
  },
  {
   "cell_type": "code",
   "execution_count": null,
   "id": "6b808ec6",
   "metadata": {},
   "outputs": [],
   "source": []
  }
 ],
 "metadata": {
  "kernelspec": {
   "display_name": "TTI",
   "language": "python",
   "name": "python3"
  },
  "language_info": {
   "codemirror_mode": {
    "name": "ipython",
    "version": 3
   },
   "file_extension": ".py",
   "mimetype": "text/x-python",
   "name": "python",
   "nbconvert_exporter": "python",
   "pygments_lexer": "ipython3",
   "version": "3.13.2"
  }
 },
 "nbformat": 4,
 "nbformat_minor": 5
}
