{
 "cells": [
  {
   "cell_type": "markdown",
   "id": "e6f6efad",
   "metadata": {},
   "source": [
    "```\n",
    "텍스트 + 이미지 \n",
    "텍스트 입력--> 이미지 생성\n",
    "U-NET, CLIP 텍스트 인코더 ,Diffusion프로세스를 처리 및 상당한 학습시간과 데이터가 필요\n",
    "\n",
    "현실적인 대안 : 전이학습... stable-diffusion 모델을 활용\n",
    "```\n"
   ]
  }
 ],
 "metadata": {
  "kernelspec": {
   "display_name": "imgcap",
   "language": "python",
   "name": "python3"
  },
  "language_info": {
   "codemirror_mode": {
    "name": "ipython",
    "version": 3
   },
   "file_extension": ".py",
   "mimetype": "text/x-python",
   "name": "python",
   "nbconvert_exporter": "python",
   "pygments_lexer": "ipython3",
   "version": "3.10.16"
  }
 },
 "nbformat": 4,
 "nbformat_minor": 5
}
