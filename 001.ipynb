{
 "cells": [
  {
   "cell_type": "markdown",
   "id": "8fb36368",
   "metadata": {},
   "source": [
    "멀티모달 : 이미지 캡셔닝\n",
    "```\n",
    "핵심 구성요소\n",
    "    - 이미지 인코더 : 이미지의 시각적인 특징\n",
    "    - 언어 디코더 : 추출된 특징을 바탕으로 문장을 생성\n",
    "```\n",
    "이미지 인코더\n",
    "```\n",
    "이미지를 분석해서 중요한 시각적 정보추출\n",
    "사용기술 : CNN ViT(Vision Transformer)\n",
    "    CNN : 이미지의 픽셀데이터를 물체,색상,텍스처,위치등의 특징을추출\n",
    "    ViT : 이미지를 패치단위로 나눠서 Transformer 구조로 처리 -> 추세\n",
    "```\n",
    "언어 디코더\n",
    "```\n",
    "이미지의 특징을 받아서 자연스러운 문장을 생성 -> 시계열 데이터처럼 처리\n",
    "사용기술 : RNN LSTM Transformer\n",
    "확률분포를 이용해서 단어를 하나씩 선택해 문장을 생성성\n",
    "```"
   ]
  },
  {
   "cell_type": "code",
   "execution_count": 1,
   "id": "370ae12f",
   "metadata": {},
   "outputs": [
    {
     "name": "stderr",
     "output_type": "stream",
     "text": [
      "'apt'��(��) ���� �Ǵ� �ܺ� ����, ������ �� �ִ� ���α׷�, �Ǵ�\n",
      "��ġ ������ �ƴմϴ�.\n"
     ]
    }
   ],
   "source": [
    "# 리눅스에 패키지 설치 특정 cuDNN 버전 설치\n",
    "!apt install --allow-change-held-packages libcudnn8=8.1.0.77-1+cuda11.2"
   ]
  },
  {
   "cell_type": "code",
   "execution_count": 2,
   "id": "3f22fdff",
   "metadata": {},
   "outputs": [
    {
     "name": "stderr",
     "output_type": "stream",
     "text": [
      "WARNING: Skipping tensorflow as it is not installed.\n",
      "WARNING: Skipping estimator as it is not installed.\n",
      "WARNING: Skipping keras as it is not installed.\n"
     ]
    }
   ],
   "source": [
    "!pip uninstall -y tensorflow estimator keras"
   ]
  },
  {
   "cell_type": "code",
   "execution_count": 3,
   "id": "4af2a145",
   "metadata": {},
   "outputs": [
    {
     "name": "stdout",
     "output_type": "stream",
     "text": [
      "Collecting einops\n",
      "  Using cached einops-0.8.1-py3-none-any.whl.metadata (13 kB)\n",
      "Using cached einops-0.8.1-py3-none-any.whl (64 kB)\n",
      "Installing collected packages: einops\n",
      "Successfully installed einops-0.8.1\n"
     ]
    }
   ],
   "source": [
    "!pip install einops"
   ]
  },
  {
   "cell_type": "code",
   "execution_count": null,
   "id": "19bfbfcc",
   "metadata": {},
   "outputs": [],
   "source": [
    "# 필요 라이브러리 설치.\n",
    "!pip install -U tensorflow_text tensorflow tensorflow_datasets"
   ]
  },
  {
   "cell_type": "code",
   "execution_count": 5,
   "id": "b7009d11",
   "metadata": {},
   "outputs": [
    {
     "name": "stdout",
     "output_type": "stream",
     "text": [
      "Python 3.11.11\n"
     ]
    }
   ],
   "source": [
    "!python --version"
   ]
  },
  {
   "cell_type": "code",
   "execution_count": null,
   "id": "c90bca58",
   "metadata": {},
   "outputs": [],
   "source": []
  }
 ],
 "metadata": {
  "kernelspec": {
   "display_name": "imgcap",
   "language": "python",
   "name": "python3"
  },
  "language_info": {
   "codemirror_mode": {
    "name": "ipython",
    "version": 3
   },
   "file_extension": ".py",
   "mimetype": "text/x-python",
   "name": "python",
   "nbconvert_exporter": "python",
   "pygments_lexer": "ipython3",
   "version": "3.10.16"
  }
 },
 "nbformat": 4,
 "nbformat_minor": 5
}
